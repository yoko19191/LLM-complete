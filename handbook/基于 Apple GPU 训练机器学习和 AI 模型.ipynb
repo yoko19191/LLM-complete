{
 "cells": [
  {
   "cell_type": "markdown",
   "metadata": {},
   "source": [
    "# WWDC 2024 : Train Your Machine Learning and AI models on Apple GPUs \n",
    "\n",
    "Joona Havukainen, GPU, Graphics and Display Software\n"
   ]
  },
  {
   "cell_type": "code",
   "execution_count": 2,
   "metadata": {},
   "outputs": [
    {
     "name": "stdout",
     "output_type": "stream",
     "text": [
      "device: mps\n"
     ]
    }
   ],
   "source": [
    "import torch \n",
    "import random\n",
    "\n",
    "random.seed(42)\n",
    "torch.manual_seed(42)\n",
    "\n",
    "#torch.set_default_device('mps')\n",
    "\n",
    "device = torch.device(\"cuda:0\" if torch.cuda.is_available() else \"mps\" if torch.backends.mps.is_available() else \"cpu\")\n",
    "print(f\"device: {device}\")\n",
    "\n",
    "# print(torch.version.cuda)\n",
    "# print(torch.backends.cudnn.version())"
   ]
  },
  {
   "cell_type": "code",
   "execution_count": null,
   "metadata": {},
   "outputs": [],
   "source": [
    "from transformers import LlamaTokenizer, LlamaForCausalLM\n",
    "\n",
    "model_path = 'openlm-research/open_llama_3b_v2'\n",
    "\n",
    "tokenizer = LlamaTokenizer.from_pretrained(model_path);\n",
    "\n",
    "base_model = LlamaForCausalLM.from_pretrained(\n",
    "    model_path\n",
    ");"
   ]
  },
  {
   "cell_type": "code",
   "execution_count": null,
   "metadata": {},
   "outputs": [],
   "source": [
    "from peft import LoraConfig, PeftModel\n",
    "\n",
    "lora_config = LoraConfig(\n",
    "    r = 64,\n",
    "    lora_alpha = 32,\n",
    "    lora_dropout = 0.05,\n",
    "    bias = \"none\",\n",
    "    task_type = \"CAUSAL_LM\"\n",
    ")\n",
    "\n",
    "\n",
    "model = PeftModel(base_model, lora_config, adapter_name=\"Shakespeare\")\n",
    "model.to(device)"
   ]
  },
  {
   "cell_type": "code",
   "execution_count": null,
   "metadata": {},
   "outputs": [],
   "source": [
    "import os \n",
    "import requests\n",
    "\n",
    "file_name = \"shakespeare.txt\"\n",
    "url = \"https://raw.githubusercontent.com/karpathy/char-rnn/master/data/tinyshakespeare/input.txt\"\n",
    "\n",
    "if not os.path.isfile(file_name):\n",
    "    data = requests.get(url)\n",
    "    with open(file_name, 'w') as f:\n",
    "        f.write(data.text)\n",
    "        \n",
    "        \n",
    "from transformers import TextDataset\n",
    "\n",
    "train_dataset = TextDataset(\n",
    "    tokenizer=tokenizer,\n",
    "    file_path=file_name,\n",
    "    block_size=128,\n",
    ")[:256] "
   ]
  },
  {
   "cell_type": "code",
   "execution_count": null,
   "metadata": {},
   "outputs": [],
   "source": [
    "from transformers import Trainer, TrainingArguments\n",
    "\n",
    "training_args = TrainingArguments(\n",
    "    output_dir=\"output\",\n",
    "    overwrite_output_dir=True,\n",
    "    num_train_epochs=10,\n",
    "    per_device_train_batch_size=32,\n",
    "    evaluation_strategy='no'  \n",
    ")"
   ]
  },
  {
   "cell_type": "code",
   "execution_count": null,
   "metadata": {},
   "outputs": [],
   "source": [
    "from transformers import DataCollatorForLanguageModeling\n",
    "\n",
    "data_collator = DataCollatorForLanguageModeling(tokenizer=tokenizer, mlm=True)\n",
    "\n",
    "trainer = Trainer(\n",
    "    model=model,\n",
    "    args=training_args,\n",
    "    data_collator=data_collator,\n",
    "    train_dataset=train_dataset\n",
    ")"
   ]
  },
  {
   "cell_type": "code",
   "execution_count": null,
   "metadata": {},
   "outputs": [],
   "source": [
    "def generate_response(prompt_text, model, tokenizer, max_length=30, num_return_sequences=1):\n",
    "    input_ids = tokenizer.encode(prompt_text, return_tensors='pt').to(device)\n",
    "    \n",
    "    output_sequences = model.generate(\n",
    "        input_ids = input_ids, \n",
    "        max_length=max_length, \n",
    "        num_return_sequences=num_return_sequences,\n",
    "        no_repeat_ngram_size=2,\n",
    "    )\n",
    "    \n",
    "    responses = []\n",
    "    for response_id in output_sequences:\n",
    "        response = tokenizer.decode(response_id, skip_special_tokens=True)\n",
    "        responses.append(response)\n",
    "        \n",
    "    return responses "
   ]
  },
  {
   "cell_type": "code",
   "execution_count": null,
   "metadata": {},
   "outputs": [],
   "source": [
    "prompt_text = \"Uneasy lies the head that wears a crown.\"\n",
    "\n",
    "responses = generate_response(prompt_text, model, tokenizer)\n",
    "for response in responses:\n",
    "    print(response)"
   ]
  },
  {
   "cell_type": "code",
   "execution_count": null,
   "metadata": {},
   "outputs": [],
   "source": [
    "trainer.train()"
   ]
  },
  {
   "cell_type": "code",
   "execution_count": null,
   "metadata": {},
   "outputs": [],
   "source": [
    "prompt_text = \"Uneasy lies the head that wears a crown.\"\n",
    "\n",
    "responses = generate_response(prompt_text, model, tokenizer)\n",
    "for response in responses:\n",
    "    print(response)"
   ]
  },
  {
   "cell_type": "code",
   "execution_count": null,
   "metadata": {},
   "outputs": [],
   "source": [
    "save_path = \"merged_fine_tuned_openllama2_3b_shakespears\"\n",
    "tokenizer.save_pretrained(save_path)\n",
    "merged_model = model.merge_and_unload()\n",
    "merged_model.save_pretrained(save_path)"
   ]
  },
  {
   "cell_type": "markdown",
   "metadata": {},
   "source": [
    "# ExecuTorch 部署Pytorch部署到边缘设备\n",
    "\n",
    "Deploy PyTorch models to devices \n",
    "\n",
    "MPS backend for acceleration\n",
    "\n",
    "```bash\n",
    "git clone --branch git@github.com:pytorch/executorch.git\n",
    "cd executorch\n",
    "\n",
    "git submodule sync\n",
    "git submodule update --init \n",
    "./install_requirements.sh --pybind mps\n",
    "```\n",
    "\n",
    "最后展示了 在 iPad Pro 上 部署 上面微调后模型，我不懂 Swift 就没做， 之后试试\n",
    "\n",
    "[基于 Apple GPU 训练机器学习和 AI 模型](https://www.youtube.com/watch?v=CbmTFTsbyPI&t=985s) 11:25\n"
   ]
  },
  {
   "cell_type": "markdown",
   "metadata": {},
   "source": []
  }
 ],
 "metadata": {
  "kernelspec": {
   "display_name": "py_ground",
   "language": "python",
   "name": "python3"
  },
  "language_info": {
   "codemirror_mode": {
    "name": "ipython",
    "version": 3
   },
   "file_extension": ".py",
   "mimetype": "text/x-python",
   "name": "python",
   "nbconvert_exporter": "python",
   "pygments_lexer": "ipython3",
   "version": "3.10.14"
  }
 },
 "nbformat": 4,
 "nbformat_minor": 2
}
