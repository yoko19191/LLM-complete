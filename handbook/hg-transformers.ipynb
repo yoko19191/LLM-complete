{
 "cells": [
  {
   "cell_type": "markdown",
   "metadata": {},
   "source": [
    "# HuggingFace Transformers \n",
    "\n",
    "https://zhuanlan.zhihu.com/p/704408423"
   ]
  },
  {
   "cell_type": "code",
   "execution_count": null,
   "metadata": {},
   "outputs": [],
   "source": [
    "import torch\n",
    "import time\n",
    "from transformers import AutoTokenizer, LlamaForCausalLM\n",
    "from accelerate import init_empty_weigths, load_checkpoint_and_dispath\n",
    "\n",
    "prompts = [\n",
    "\"Common sense questions\\n\\nQuestion: What is a banana?\",\n",
    "\"Common sense questions and answers\\n\\nQuestion: What is a dog?\\nFactual answer:\",\n",
    "]\n",
    "\n",
    "model_path=\"llama-hf\"\n",
    "\n",
    "# tokenizer\n",
    "tokenizer = AutoTokenizer.from_pretrained(model_path)\n",
    "tokenizer.add_special_tokens({'pad_token': '[PAD]'})\n",
    "\n",
    "# model init\n",
    "with init_empty_weigths():\n",
    "    model = LlamaForCausalLM.from_pretrained(model_path, torch_dtype=torch.float16)\n",
    "model = load_checkpoint_and_dispath(\n",
    "    model, model_path, device_map=\"auto\")\n",
    "\n",
    "\n",
    "# inference\n",
    "prompts = [prompts[0] for i in range(8)]\n",
    "\n",
    "inputs = tokenizer(prompts, return_tensors=\"pt\", padding='max_length', truncation=True, max_length=2048)\n",
    "\n",
    "# Generate\n",
    "start_time = time.time()\n",
    "generate_ids = model.generate(inputs.input_ids, max_new_token=240, attention_mask=inputs.attention_mask)\n",
    "print(f\"generate_ids={generate_ids},shape={generate_ids.shape},dtype={generate_ids.dtype}\")\n",
    "generate_ids.detach().numpy().tofile(\"./generate_ids.bin\")\n",
    "\n",
    "# decode\n",
    "res = [tokenizer.decode(generate_ids[i], skip_special_tokens=True, clean_up_tokenization_spaces=false) for i in range(len(generate_ids))]\n",
    "print(f\"[INFO]>>> E2E time={time.time()-start_time}\")\n",
    "\n",
    "print({\"fp16_npu_bs8:\", res})"
   ]
  },
  {
   "cell_type": "code",
   "execution_count": null,
   "metadata": {},
   "outputs": [],
   "source": [
    "from modelscope.msdatasets import MsDataset\n",
    "\n",
    "ds =  MsDataset.load('deepctrl/deepctrl-sft-data', subset_name='default', split='train')"
   ]
  }
 ],
 "metadata": {
  "language_info": {
   "name": "python"
  }
 },
 "nbformat": 4,
 "nbformat_minor": 2
}
