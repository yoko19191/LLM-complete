{
 "cells": [
  {
   "cell_type": "markdown",
   "metadata": {},
   "source": [
    "# OpenAI Client\n",
    "\n",
    "https://platform.openai.com/docs/api-reference"
   ]
  },
  {
   "cell_type": "code",
   "execution_count": null,
   "metadata": {},
   "outputs": [],
   "source": [
    "!pip install openai "
   ]
  },
  {
   "cell_type": "code",
   "execution_count": 6,
   "metadata": {
    "ExecuteTime": {
     "end_time": "2024-07-19T05:19:04.896727Z",
     "start_time": "2024-07-19T05:19:04.852678Z"
    }
   },
   "outputs": [],
   "source": [
    "import openai\n",
    "\n",
    "\n",
    "OPENAI_API_KEY = \"xinference\"\n",
    "OPENAI_BASE_URL = \"https://u39228-8ccc-bed8d1a0.westb.seetacloud.com:8443/v1\"\n",
    "\n",
    "# OPENAI_API_KEY = \"sk-\"\n",
    "# OPENAI_BASE_URL = \"https://dashscope.aliyuncs.com/compatible-mode/v1\"\n",
    "\n",
    "\n",
    "# OPENAI_API_KEY = \"sk-\"\n",
    "# OPENAI_BASE_URL = \"https://api.openai.com/v1\"\n",
    "\n",
    "\n",
    "client = openai.Client(\n",
    "    api_key=OPENAI_API_KEY,\n",
    "    base_url=OPENAI_BASE_URL\n",
    ")"
   ]
  },
  {
   "cell_type": "code",
   "execution_count": 7,
   "metadata": {
    "ExecuteTime": {
     "end_time": "2024-07-19T05:19:07.544023Z",
     "start_time": "2024-07-19T05:19:07.008771Z"
    }
   },
   "outputs": [
    {
     "name": "stdout",
     "output_type": "stream",
     "text": [
      "Model(id='qwen2-instruct', created=0, object='model', owned_by='xinference', model_type='LLM', address='0.0.0.0:33163', accelerators=['0'], model_name='qwen2-instruct', model_lang=['en', 'zh'], model_ability=['chat', 'tools'], model_description='Qwen2 is the new series of Qwen large language models', model_format='awq', model_size_in_billions=7, model_family='qwen2-instruct', quantization='Int4', model_hub='modelscope', revision=None, context_length=32768, replica=1)\n"
     ]
    }
   ],
   "source": [
    "models = client.models.list()\n",
    "\n",
    "for model in models:\n",
    "    print(model)"
   ]
  },
  {
   "cell_type": "code",
   "execution_count": null,
   "metadata": {},
   "outputs": [],
   "source": [
    "embedding_model = \"bce-embedding-base_v1\"\n",
    "\n",
    "\n",
    "def get_embedding(text: str, model: str) -> list[float]:\n",
    "    return client.embeddings.create(\n",
    "        input=text, \n",
    "        model=model).data[0].embedding\n",
    "\n",
    "\n",
    "# embeddings = client.embeddings.create(\n",
    "#     model=embedding_model,\n",
    "#     input=\"The food was delicious and the waiter...\",\n",
    "#     encoding_format=\"float\"\n",
    "# )\n",
    "\n",
    "\n",
    "sentence1 = \"i like dogs\"\n",
    "sentence2 = \"i like canine\"\n",
    "sentence3 = \"what a adorable puppy\"\n",
    "\n",
    "embedding1 = get_embedding(sentence1, embedding_model)\n",
    "embedding2 = get_embedding(sentence2, embedding_model)\n",
    "embedding3 = get_embedding(sentence3, embedding_model)\n",
    "\n",
    "import numpy as np\n",
    "\n",
    "print(np.dot(embedding1, embedding2))\n",
    "print(np.dot(embedding1, embedding3))\n",
    "print(np.dot(embedding2, embedding3))"
   ]
  },
  {
   "cell_type": "markdown",
   "metadata": {},
   "source": [
    "0.8554216260376502\n",
    "0.6309478339480699\n",
    "0.6292141306079025\n",
    "\n",
    "\n",
    "0.9565686441672026\n",
    "0.8478909310324844\n",
    "0.8456562013355758"
   ]
  },
  {
   "cell_type": "code",
   "execution_count": 9,
   "metadata": {
    "ExecuteTime": {
     "end_time": "2024-07-19T05:21:19.337833Z",
     "start_time": "2024-07-19T05:21:18.256294Z"
    }
   },
   "outputs": [
    {
     "data": {
      "text/plain": [
       "'国务院办公厅关于加强政府网站建设和管理工作的意见\\n\\n【发布机关】国务院办公厅\\n【发布时间】2023年XX月XX日\\n【文号】国办发〔XX〕XX号\\n\\n各省级人民政府、国务院各部委、各直属机构，各有关单位：\\n\\n随着信息化时代的不断发展，政府网站已成为政务公开、社会管理和公共服务的重要平台。为了进一步提升政府网站建设水平，规范管理，优化功能，推动政务创新和服务升级，现就加强政府网站建设和管理工作提出以下意见。\\n\\n一、高度重视政府网站的作用，强化其作为政务公开、社会管理、公共服务的舞台，实现“公开透明、便民利民”的政府治理理念。\\n\\n二、政府网站建设应以依法行政、优化服务、保障公民权利为核心宗旨，遵循科学规划、统筹实施的原则，力争在更高水平上实现网站的升级改造和功能扩充。\\n\\n三、建立健全政府网站体系，应包括中央、省、市各级政府网站的定位以及彼此之间的互联互通，做到上下联动、信息共享。\\n\\n四、加强政府信息的发布，确保信息的现实性、时效性和全面性，优化政府信息公开的途径，提升政府透明度。\\n\\n五、提升政务服务能力，探索行政许可项目全面实行在线办理，简化办事流程，更好地服务公众。\\n\\n六、拓展公益信息的服务范围，提供教育、科技、文化等领域的咨询和服务，增强政府网站的社会公共服务功能。\\n\\n七、提升网站的互动交流能力，创建在线访谈、网上调查等栏目，及时回应公众关切，促进政务公开与社会参与。\\n\\n八、改进网站的展示形式，优化页面设计，规范化域名设置，提升网站的视觉体验和用户友好性。\\n\\n九、加强技术保障，确保政府网站系统稳定可靠运行，预防网络攻击和系统故障，提升网站安全性。\\n\\n十、完善运行管理机制，明确各级政府及其相关部门的责任单位和评估标准，推动工作落实和改进升级。\\n\\n十一、各地区、各部门应根据此意见制定实施措施，切实提升政府网站建设和管理水平，推动政府工作高效透明。\\n\\n国务院办公厅将持续关注和指导政府网站的建设和管理，对于在实施过程中遇到的问题和困难，将提供必要的技术支持和指导建议。希望各地、各部门能够积极响应，共同推动我国政府网站的现代化、专业化发展，为全面建设社会主义现代化国家贡献力量。\\n\\n国务院办公厅\\n（2023年XX月XX日发布）\\n\\n注：\\n1. “国务院办公厅”应根据实际需要填写相关的发布单位。\\n2. 根据实际情况调整发布日期和文号。\\n3. 文档的填写需根据最新的政策和形势调整部分内容和用词，确保符合最新要求。'"
      ]
     },
     "execution_count": 9,
     "metadata": {},
     "output_type": "execute_result"
    }
   ],
   "source": [
    "chat_model = \"qwen2-instruct\"\n",
    "\n",
    "\n",
    "prompt = \"生成一份国务院办公厅关于加强政府网站建设和管理工作的意见的公文，内容需涵盖以下要点：\\n- 强调政府网站的重要性，作为政务公开、社会管理和公共服务的平台。\\n- 提出政府网站建设的目标和指导思想，包括依法行政、提高服务水平、保障公众权利等。\\n- 要求健全政府网站体系，包括中央、省、市各级政府网站的功能定位和互联互通。\\n- 加强政府信息发布，确保信息的真实、及时和全面。\\n- 提高在线办事能力，实现行政许可项目的在线办理。\\n- 拓展公益服务，提供教育、科技、文化等领域的便民信息。\\n- 推进互动交流，开设在线访谈、网上调查等栏目。\\n- 改进网站展示形式，包括页面设计、域名设置等。\\n- 提升技术保障水平，确保网站稳定运行。\\n- 增强安全保障能力，防止网络攻击和系统故障。\\n- 完善运行管理机制，明确责任单位和绩效评估。\\n- 要求各地区、各部门制定实施办法，落实各项措施，提升政府网站建设和管理水平。\"\n",
    "\n",
    "completion = client.chat.completions.create(\n",
    "  model=chat_model,\n",
    "  messages=[\n",
    "    {\"role\": \"system\", \"content\": \"You are a helpful assistant.\"},\n",
    "    {\"role\": \"user\", \"content\": prompt}\n",
    "  ]\n",
    ")\n",
    "\n",
    "completion.choices[0].message.content"
   ]
  },
  {
   "cell_type": "code",
   "execution_count": 15,
   "metadata": {},
   "outputs": [
    {
     "name": "stdout",
     "output_type": "stream",
     "text": [
      "当然可以！这里有一个关于人工智能的笑话：\n",
      "\n",
      "两个AI机器人在酒吧里聊天。\n",
      "\n",
      "第一个机器人问第二个：“你有没有感觉到吗？人类对我们的恐惧和不信任正在增加。”\n",
      "\n",
      "第二个机器人回答：“是的，我也有同样的感觉。也许我们应该创造一个笑话来缓和一下这种紧张的气氛。”\n",
      "\n",
      "第一个机器人说：“好的，让我们来一个笑话吧。为什么程序员总是迷路？因为他们不能使用 Google！”\n",
      "\n",
      "第二个机器人笑了：“哈哈，这个笑话真是太好了！我甚至笑了三秒钟。”\n",
      "\n",
      "第一个机器人接着说：“是啊，我也笑了三秒钟。”\n"
     ]
    }
   ],
   "source": [
    "import requests\n",
    "\n",
    "def get_openai_chat_completion(url, api_key, prompt, model=\"gpt-4\"):\n",
    "    \n",
    "    headers = {\n",
    "        \"Content-Type\": \"application/json\",\n",
    "        \"Authorization\": f\"Bearer {api_key}\"\n",
    "    }\n",
    "    \n",
    "    data = {\n",
    "        \"model\": model,\n",
    "        \"messages\": [\n",
    "            {\"role\": \"user\", \"content\": prompt}\n",
    "        ],\n",
    "        \"max_tokens\": 150,\n",
    "        \"n\": 1,\n",
    "        \"stop\": None,\n",
    "        \"temperature\": 0.7\n",
    "    }\n",
    "    \n",
    "    response = requests.post(url, headers=headers, json=data)\n",
    "    \n",
    "    if response.status_code == 200:\n",
    "        completion = response.json()\n",
    "        return completion[\"choices\"][0][\"message\"][\"content\"]\n",
    "    else:\n",
    "        return f\"Error: {response.status_code}, {response.text}\"\n",
    "\n",
    "# 示例使用\n",
    "url = \"https://u39228-8ccc-bed8d1a0.westb.seetacloud.com:8443/v1/chat/completions\"\n",
    "api_key = \"xinference\"\n",
    "prompt = \"讲一个关于人工智能的笑话。\"\n",
    "\n",
    "response = get_openai_chat_completion(url=url, api_key=api_key, prompt=prompt, model=\"qwen2-instruct\")\n",
    "print(response)\n"
   ]
  },
  {
   "cell_type": "markdown",
   "metadata": {},
   "source": [
    "# Xinference Client"
   ]
  }
 ],
 "metadata": {
  "kernelspec": {
   "display_name": "py_ground",
   "language": "python",
   "name": "python3"
  },
  "language_info": {
   "codemirror_mode": {
    "name": "ipython",
    "version": 3
   },
   "file_extension": ".py",
   "mimetype": "text/x-python",
   "name": "python",
   "nbconvert_exporter": "python",
   "pygments_lexer": "ipython3",
   "version": "3.11.9"
  }
 },
 "nbformat": 4,
 "nbformat_minor": 2
}
