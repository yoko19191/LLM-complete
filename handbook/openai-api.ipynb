{
 "cells": [
  {
   "cell_type": "markdown",
   "metadata": {},
   "source": [
    "# OpenAI Client\n",
    "\n",
    "https://platform.openai.com/docs/api-reference"
   ]
  },
  {
   "cell_type": "code",
   "execution_count": null,
   "metadata": {},
   "outputs": [],
   "source": [
    "!pip install openai "
   ]
  },
  {
   "cell_type": "code",
   "execution_count": 8,
   "metadata": {},
   "outputs": [],
   "source": [
    "import openai\n",
    "\n",
    "\n",
    "# OPENAI_API_KEY = \"xinference\"\n",
    "# OPENAI_BASE_URL = \"https://u39228-84cd-56ae2af7.westb.seetacloud.com:8443/v1\"\n",
    "\n",
    "OPENAI_API_KEY = \"sk-520941c0feaa4cec82e7217979bb9c2d\"\n",
    "OPENAI_BASE_URL = \"https://dashscope.aliyuncs.com/compatible-mode/v1\"\n",
    "\n",
    "client = openai.Client(\n",
    "    api_key=OPENAI_API_KEY,\n",
    "    base_url=OPENAI_BASE_URL\n",
    ")"
   ]
  },
  {
   "cell_type": "code",
   "execution_count": 9,
   "metadata": {},
   "outputs": [
    {
     "name": "stdout",
     "output_type": "stream",
     "text": [
      "Model(id='qwen-turbo', created=1714377100, object='model', owned_by='system')\n",
      "Model(id='qwen-plus', created=1714377100, object='model', owned_by='system')\n",
      "Model(id='qwen-max', created=1714377100, object='model', owned_by='system')\n",
      "Model(id='qwen-max-0403', created=1714377100, object='model', owned_by='system')\n",
      "Model(id='qwen-max-0107', created=1714377100, object='model', owned_by='system')\n",
      "Model(id='qwen-max-1201', created=1714377101, object='model', owned_by='system')\n",
      "Model(id='qwen-max-longcontext', created=1714377101, object='model', owned_by='system')\n",
      "Model(id='qwen1.5-72b-chat', created=1714377101, object='model', owned_by='system')\n",
      "Model(id='qwen1.5-32b-chat', created=1714377101, object='model', owned_by='system')\n",
      "Model(id='qwen1.5-14b-chat', created=1714377101, object='model', owned_by='system')\n",
      "Model(id='qqwen1.5-7b-chat', created=1714377101, object='model', owned_by='system')\n",
      "Model(id='qwen1.5-1.8b-chat', created=1714377101, object='model', owned_by='system')\n",
      "Model(id='qwen1.5-0.5b-chat', created=1714377102, object='model', owned_by='system')\n",
      "Model(id='codeqwen1.5-7b-chat', created=1714377102, object='model', owned_by='system')\n",
      "Model(id='qwen-72b-chat', created=1714377102, object='model', owned_by='system')\n",
      "Model(id='qwen-14b-chat', created=1714377102, object='model', owned_by='system')\n",
      "Model(id='qwen-7b-chat', created=1714377102, object='model', owned_by='system')\n",
      "Model(id='qwen-1.8b-longcontext-chat', created=1714377102, object='model', owned_by='system')\n",
      "Model(id='qwen-1.8b-chat', created=1714377102, object='model', owned_by='system')\n",
      "Model(id='qwen1.5-110b-chat', created=1714788848, object='model', owned_by='system')\n",
      "Model(id='qwen-max-0428', created=1714978712, object='model', owned_by='system')\n",
      "Model(id='qwen-vl-plus', created=1716197934, object='model', owned_by='system')\n",
      "Model(id='qwen-vl-max', created=1716197964, object='model', owned_by='system')\n",
      "Model(id='qwen-long', created=1716203538, object='model', owned_by='system')\n",
      "Model(id='qwen2-72b-instruct', created=1717760433, object='model', owned_by='system')\n",
      "Model(id='qwen2-7b-instruct', created=1717760433, object='model', owned_by='system')\n",
      "Model(id='qwen2-0.5b-instruct', created=1717760433, object='model', owned_by='system')\n",
      "Model(id='qwen2-1.5b-instruct', created=1717760433, object='model', owned_by='system')\n",
      "Model(id='qwen2-57b-a14b-instruct', created=1717760433, object='model', owned_by='system')\n"
     ]
    }
   ],
   "source": [
    "models = client.models.list()\n",
    "\n",
    "for model in models:\n",
    "    print(model)"
   ]
  },
  {
   "cell_type": "code",
   "execution_count": 7,
   "metadata": {},
   "outputs": [
    {
     "name": "stdout",
     "output_type": "stream",
     "text": [
      "0.8554216260376502\n",
      "0.6309478339480699\n",
      "0.6292141306079025\n"
     ]
    }
   ],
   "source": [
    "embedding_model = \"bce-embedding-base_v1\"\n",
    "\n",
    "\n",
    "def get_embedding(text: str, model: str) -> list[float]:\n",
    "    return client.embeddings.create(\n",
    "        input=text, \n",
    "        model=model).data[0].embedding\n",
    "\n",
    "\n",
    "# embeddings = client.embeddings.create(\n",
    "#     model=embedding_model,\n",
    "#     input=\"The food was delicious and the waiter...\",\n",
    "#     encoding_format=\"float\"\n",
    "# )\n",
    "\n",
    "\n",
    "sentence1 = \"i like dogs\"\n",
    "sentence2 = \"i like canine\"\n",
    "sentence3 = \"what a adorable puppy\"\n",
    "\n",
    "embedding1 = get_embedding(sentence1, embedding_model)\n",
    "embedding2 = get_embedding(sentence2, embedding_model)\n",
    "embedding3 = get_embedding(sentence3, embedding_model)\n",
    "\n",
    "import numpy as np\n",
    "\n",
    "print(np.dot(embedding1, embedding2))\n",
    "print(np.dot(embedding1, embedding3))\n",
    "print(np.dot(embedding2, embedding3))"
   ]
  },
  {
   "cell_type": "markdown",
   "metadata": {},
   "source": [
    "0.8554216260376502\n",
    "0.6309478339480699\n",
    "0.6292141306079025\n",
    "\n",
    "\n",
    "0.9565686441672026\n",
    "0.8478909310324844\n",
    "0.8456562013355758"
   ]
  },
  {
   "cell_type": "code",
   "execution_count": 5,
   "metadata": {},
   "outputs": [
    {
     "data": {
      "text/plain": [
       "'您好,我是一个人工智能助手,由360公司研发,在中文领域,相对于其他AI模型,我在服务层面我更加具备中国特色和中文服务。我的名称是文曦。请问有什么可以帮助您的吗?'"
      ]
     },
     "execution_count": 5,
     "metadata": {},
     "output_type": "execute_result"
    }
   ],
   "source": [
    "chat_model = \"qwen2-7B-custom\"\n",
    "\n",
    "completion = client.chat.completions.create(\n",
    "  model=chat_model,\n",
    "  messages=[\n",
    "    {\"role\": \"system\", \"content\": \"You are a helpful assistant.\"},\n",
    "    {\"role\": \"user\", \"content\": \"你是谁?\"}\n",
    "  ]\n",
    ")\n",
    "\n",
    "completion.choices[0].message.content"
   ]
  },
  {
   "cell_type": "markdown",
   "metadata": {},
   "source": [
    "# Xinference Client"
   ]
  }
 ],
 "metadata": {
  "kernelspec": {
   "display_name": "py_ground",
   "language": "python",
   "name": "python3"
  },
  "language_info": {
   "codemirror_mode": {
    "name": "ipython",
    "version": 3
   },
   "file_extension": ".py",
   "mimetype": "text/x-python",
   "name": "python",
   "nbconvert_exporter": "python",
   "pygments_lexer": "ipython3",
   "version": "3.11.9"
  }
 },
 "nbformat": 4,
 "nbformat_minor": 2
}
