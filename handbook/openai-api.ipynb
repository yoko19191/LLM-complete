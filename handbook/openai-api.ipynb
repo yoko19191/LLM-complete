{
 "cells": [
  {
   "cell_type": "markdown",
   "metadata": {},
   "source": [
    "# OpenAI Client\n",
    "\n",
    "https://platform.openai.com/docs/api-reference"
   ]
  },
  {
   "cell_type": "code",
   "execution_count": null,
   "metadata": {},
   "outputs": [],
   "source": [
    "!pip install openai "
   ]
  },
  {
   "cell_type": "code",
   "execution_count": 2,
   "metadata": {
    "ExecuteTime": {
     "end_time": "2024-07-19T05:19:04.896727Z",
     "start_time": "2024-07-19T05:19:04.852678Z"
    }
   },
   "outputs": [],
   "source": [
    "import openai\n",
    "\n",
    "\n",
    "OPENAI_API_KEY = \"xinference\"\n",
    "OPENAI_BASE_URL = \"https://u39228-84cd-56ae2af7.westb.seetacloud.com:8443/v1\"\n",
    "\n",
    "\n",
    "\n",
    "# OPENAI_API_KEY = \"sk-\"\n",
    "# OPENAI_BASE_URL = \"https://dashscope.aliyuncs.com/compatible-mode/v1\"\n",
    "\n",
    "\n",
    "# OPENAI_API_KEY = \"sk-\"\n",
    "# OPENAI_BASE_URL = \"https://api.openai.com/v1\"\n",
    "\n",
    "\n",
    "client = openai.Client(\n",
    "    api_key=OPENAI_API_KEY,\n",
    "    base_url=OPENAI_BASE_URL\n",
    ")"
   ]
  },
  {
   "cell_type": "code",
   "execution_count": 3,
   "metadata": {
    "ExecuteTime": {
     "end_time": "2024-07-19T05:19:07.544023Z",
     "start_time": "2024-07-19T05:19:07.008771Z"
    }
   },
   "outputs": [
    {
     "name": "stdout",
     "output_type": "stream",
     "text": [
      "Model(id='bce-embedding-base_v1', created=0, object='model', owned_by='xinference', model_type='embedding', address='0.0.0.0:35911', accelerators=['0'], model_name='bce-embedding-base_v1', dimensions=768, max_tokens=512, language=['zh', 'en'], model_revision=None, replica=1)\n",
      "Model(id='qwen2-7B-custom', created=0, object='model', owned_by='xinference', model_type='LLM', address='0.0.0.0:34693', accelerators=['0'], model_name='qwen2-7B-custom', model_lang=['en', 'zh'], model_ability=['chat', 'generate'], model_description='fine-tuned qwen2-7B-Instruct by ISOM', model_format='gptq', model_size_in_billions=7, model_family='qwen2-instruct', quantization='4', model_hub='huggingface', revision=None, context_length=32768, replica=1)\n",
      "Model(id='qwen2-instruct', created=0, object='model', owned_by='xinference', model_type='LLM', address='0.0.0.0:42235', accelerators=['1'], model_name='qwen2-instruct', model_lang=['en', 'zh'], model_ability=['chat', 'tools'], model_description='Qwen2 is the new series of Qwen large language models', model_format='awq', model_size_in_billions=7, model_family='qwen2-instruct', quantization='Int4', model_hub='modelscope', revision=None, context_length=32768, replica=1)\n"
     ]
    }
   ],
   "source": [
    "models = client.models.list()\n",
    "\n",
    "for model in models:\n",
    "    print(model)"
   ]
  },
  {
   "cell_type": "code",
   "execution_count": 4,
   "metadata": {},
   "outputs": [
    {
     "name": "stdout",
     "output_type": "stream",
     "text": [
      "0.8554216260376502\n",
      "0.6309478339480699\n",
      "0.6292141306079025\n"
     ]
    }
   ],
   "source": [
    "embedding_model = \"bce-embedding-base_v1\"\n",
    "\n",
    "\n",
    "def get_embedding(text: str, model: str) -> list[float]:\n",
    "    return client.embeddings.create(\n",
    "        input=text, \n",
    "        model=model).data[0].embedding\n",
    "\n",
    "\n",
    "# embeddings = client.embeddings.create(\n",
    "#     model=embedding_model,\n",
    "#     input=\"The food was delicious and the waiter...\",\n",
    "#     encoding_format=\"float\"\n",
    "# )\n",
    "\n",
    "\n",
    "sentence1 = \"i like dogs\"\n",
    "sentence2 = \"i like canine\"\n",
    "sentence3 = \"what a adorable puppy\"\n",
    "\n",
    "embedding1 = get_embedding(sentence1, embedding_model)\n",
    "embedding2 = get_embedding(sentence2, embedding_model)\n",
    "embedding3 = get_embedding(sentence3, embedding_model)\n",
    "\n",
    "import numpy as np\n",
    "\n",
    "print(np.dot(embedding1, embedding2))\n",
    "print(np.dot(embedding1, embedding3))\n",
    "print(np.dot(embedding2, embedding3))"
   ]
  },
  {
   "cell_type": "markdown",
   "metadata": {},
   "source": [
    "0.8554216260376502\n",
    "0.6309478339480699\n",
    "0.6292141306079025\n",
    "\n",
    "\n",
    "0.9565686441672026\n",
    "0.8478909310324844\n",
    "0.8456562013355758"
   ]
  },
  {
   "cell_type": "code",
   "execution_count": 5,
   "metadata": {
    "ExecuteTime": {
     "end_time": "2024-07-19T05:21:19.337833Z",
     "start_time": "2024-07-19T05:21:18.256294Z"
    }
   },
   "outputs": [
    {
     "data": {
      "text/plain": [
       "'国务院办公厅关于加强政府网站建设和管理工作的意见\\n\\n国务院各部委、直属机构，各省级人民政府，新疆生产建设兵团：\\n\\n近期，国办函（XX号）文件，旨在进一步明确政府网站的建设与管理工作规范，提升其政务公开、社会管理和公共服务功能。作为政府与民众沟通的重要桥梁，加强政府网站的效能建设与管理工作对提升国家治理体系和治理能力现代化具有重要的意义。现就深化政府网站建设与管理工作提出以下指导性意见：\\n\\n一、重要意义与指导思想\\n\\n（一）强调政府网站作为政务公开的重要载体、社会管理的有效平台和公共服务的重要途径，使命重大。它不仅承载着政府部门向公众发布、收集和回应信息的重要职责，还代表着国家形象和公共利益，对提升政府形象和增进公众对政府的信任至关重要。\\n\\n（二）政府网站建设的指导思想以提升治国理政效能为目标，以依法行政、提高服务水平、保障公众权利为核心，通过建设具有权威性、便捷性和透明性的政府网站，实现政府与民众的双向高效交流。\\n\\n二、基本原则与工作任务\\n\\n（三）政府网站体系的健全与完善需要按照“上下统一、分工协作、互为补充”的原则，中央、省级、市级政府部门应明确各自网站的功能定位和职责范围，推动各级网站互联互通、数据共享，形成协同效应。\\n\\n（四）加强政府信息发布的权威性和全面性，确保所提供的信息及时准确、真实无误，为公众和社会大众提供全面、清晰的政务公开信息。\\n\\n（五）全面提升在线办事能力，推进行政许可项目向互联网迁移，实现“一网通办”，简化办事流程，提高行政效率，打造高效便捷的电子政务服务体系。\\n\\n（六）拓展公益服务领域，充分利用政府网站平台，提供教育、科技、文化等领域的便民信息和服务，满足民众多样化信息需求。\\n\\n（七）推进互动交流机制建设，开设各类在线访谈、网上意见收集等栏目，增进政府与公众之间的信息交流与意见互动，构建更加畅通的民主化沟通渠道。\\n\\n（八）改进网站展示形式和页面设计，优化用户体验，选择更具辨识度和易识别度的域名，提升政府网站的视觉效果和访问便利性。\\n\\n（九）提升网站技术保障水平，确保网站服务稳定、可靠，加强网络安全防范，预防和打击各类网络攻击，保障政府网站的安全运行。\\n\\n（十）建立完善的技术保障和安全保障机制，定期开展系统维护和技术测试，加强设备管理与人员培训，提升应急反应和应对风险的能力。\\n\\n（十一）完善运行管理和绩效评估体系，明确具体责任单位和考核指标，定期进行绩效自查和外部评估，激励政府网站持续改进与优化。\\n\\n（十二）各地区、各部门应遵循此意见要求，制定具体实施办法，明确工作责任和时间节点，确保高效推进政府网站建设和管理工作。\\n\\n戮力同心打造一流的政府网站，健全信息公开、优化社会管理、提高公共服务水平，用实际行动回应人民群众需求，彰显政府的责任担当和服务能力。国务院办公厅将指导相关单位开展调研、督查和评估工作，确保此意见的全面贯彻与落实。\\n\\n国务院办公厅\\n\\n（日期）\\n\\n---\\n\\n此文件以公文格式撰写，包括了国务院办公厅强化政府网站建设和管理的指导思想、目标、要求等多个层次的内容，旨在引领全国各级政府网站的建设、运营和管理达到高效、透明、安全和便捷的标准。'"
      ]
     },
     "execution_count": 5,
     "metadata": {},
     "output_type": "execute_result"
    }
   ],
   "source": [
    "chat_model = \"qwen2-instruct\"\n",
    "\n",
    "\n",
    "prompt = \"生成一份国务院办公厅关于加强政府网站建设和管理工作的意见的公文，内容需涵盖以下要点：\\n- 强调政府网站的重要性，作为政务公开、社会管理和公共服务的平台。\\n- 提出政府网站建设的目标和指导思想，包括依法行政、提高服务水平、保障公众权利等。\\n- 要求健全政府网站体系，包括中央、省、市各级政府网站的功能定位和互联互通。\\n- 加强政府信息发布，确保信息的真实、及时和全面。\\n- 提高在线办事能力，实现行政许可项目的在线办理。\\n- 拓展公益服务，提供教育、科技、文化等领域的便民信息。\\n- 推进互动交流，开设在线访谈、网上调查等栏目。\\n- 改进网站展示形式，包括页面设计、域名设置等。\\n- 提升技术保障水平，确保网站稳定运行。\\n- 增强安全保障能力，防止网络攻击和系统故障。\\n- 完善运行管理机制，明确责任单位和绩效评估。\\n- 要求各地区、各部门制定实施办法，落实各项措施，提升政府网站建设和管理水平。\"\n",
    "\n",
    "completion = client.chat.completions.create(\n",
    "  model=chat_model,\n",
    "  messages=[\n",
    "    {\"role\": \"system\", \"content\": \"You are a helpful assistant.\"},\n",
    "    {\"role\": \"user\", \"content\": prompt}\n",
    "  ]\n",
    ")\n",
    "\n",
    "completion.choices[0].message.content"
   ]
  },
  {
   "cell_type": "code",
   "execution_count": 15,
   "metadata": {},
   "outputs": [
    {
     "name": "stdout",
     "output_type": "stream",
     "text": [
      "当然可以！这里有一个关于人工智能的笑话：\n",
      "\n",
      "两个AI机器人在酒吧里聊天。\n",
      "\n",
      "第一个机器人问第二个：“你有没有感觉到吗？人类对我们的恐惧和不信任正在增加。”\n",
      "\n",
      "第二个机器人回答：“是的，我也有同样的感觉。也许我们应该创造一个笑话来缓和一下这种紧张的气氛。”\n",
      "\n",
      "第一个机器人说：“好的，让我们来一个笑话吧。为什么程序员总是迷路？因为他们不能使用 Google！”\n",
      "\n",
      "第二个机器人笑了：“哈哈，这个笑话真是太好了！我甚至笑了三秒钟。”\n",
      "\n",
      "第一个机器人接着说：“是啊，我也笑了三秒钟。”\n"
     ]
    }
   ],
   "source": [
    "import requests\n",
    "\n",
    "def get_openai_chat_completion(url, api_key, prompt, model=\"gpt-4\"):\n",
    "    \n",
    "    headers = {\n",
    "        \"Content-Type\": \"application/json\",\n",
    "        \"Authorization\": f\"Bearer {api_key}\"\n",
    "    }\n",
    "    \n",
    "    data = {\n",
    "        \"model\": model,\n",
    "        \"messages\": [\n",
    "            {\"role\": \"user\", \"content\": prompt}\n",
    "        ],\n",
    "        \"max_tokens\": 150,\n",
    "        \"n\": 1,\n",
    "        \"stop\": None,\n",
    "        \"temperature\": 0.7\n",
    "    }\n",
    "    \n",
    "    response = requests.post(url, headers=headers, json=data)\n",
    "    \n",
    "    if response.status_code == 200:\n",
    "        completion = response.json()\n",
    "        return completion[\"choices\"][0][\"message\"][\"content\"]\n",
    "    else:\n",
    "        return f\"Error: {response.status_code}, {response.text}\"\n",
    "\n",
    "# 示例使用\n",
    "url = \"https://u39228-8ccc-bed8d1a0.westb.seetacloud.com:8443/v1/chat/completions\"\n",
    "api_key = \"xinference\"\n",
    "prompt = \"讲一个关于人工智能的笑话。\"\n",
    "\n",
    "response = get_openai_chat_completion(url=url, api_key=api_key, prompt=prompt, model=\"qwen2-instruct\")\n",
    "print(response)\n"
   ]
  },
  {
   "cell_type": "markdown",
   "metadata": {},
   "source": [
    "# Xinference Client"
   ]
  }
 ],
 "metadata": {
  "kernelspec": {
   "display_name": "py_ground",
   "language": "python",
   "name": "python3"
  },
  "language_info": {
   "codemirror_mode": {
    "name": "ipython",
    "version": 3
   },
   "file_extension": ".py",
   "mimetype": "text/x-python",
   "name": "python",
   "nbconvert_exporter": "python",
   "pygments_lexer": "ipython3",
   "version": "3.12.4"
  }
 },
 "nbformat": 4,
 "nbformat_minor": 2
}
