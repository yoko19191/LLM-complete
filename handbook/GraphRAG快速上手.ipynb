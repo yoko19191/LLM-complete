{
 "cells": [
  {
   "cell_type": "markdown",
   "metadata": {},
   "source": [
    "# GraphRAG 快速上手\n",
    "\n",
    "https://microsoft.github.io/graphrag/posts/get_started/"
   ]
  },
  {
   "cell_type": "code",
   "execution_count": null,
   "metadata": {
    "vscode": {
     "languageId": "plaintext"
    }
   },
   "outputs": [],
   "source": [
    "!conda create -n graphrag python=3.10 \n",
    "!conda activate graphrag\n",
    "\n",
    "!pip install graphrag "
   ]
  },
  {
   "cell_type": "code",
   "execution_count": null,
   "metadata": {},
   "outputs": [],
   "source": [
    "# \n",
    "!mkdir -p ./ragtest/input\n",
    "! curl https://www.gutenberg.org/cache/epub/24022/pg24022.txt > ./ragtest/input/book.txt\n",
    "! python -m graphrag.index --init --root ./ragtest # -> .env & settings.yaml"
   ]
  },
  {
   "cell_type": "markdown",
   "metadata": {},
   "source": [
    "在 `.env` 文件中修改 \n",
    "`GRAPHRAG_API_KEY`\n"
   ]
  },
  {
   "cell_type": "markdown",
   "metadata": {},
   "source": [
    "# "
   ]
  }
 ],
 "metadata": {
  "language_info": {
   "name": "python"
  }
 },
 "nbformat": 4,
 "nbformat_minor": 2
}
