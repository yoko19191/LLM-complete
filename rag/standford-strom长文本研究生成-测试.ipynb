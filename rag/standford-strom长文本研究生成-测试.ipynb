{
 "cells": [
  {
   "cell_type": "markdown",
   "metadata": {},
   "source": [
    "# Storm \n",
    "\n",
    "Storm 是一个基于 LLM 的长文本研究文章生成项目，可以生成带有应用的长文章。模型首先利用互联网+RAG 搜集，然后生成。为了提高问题的深度和广度，Storm 有两种策略。第一种是观点引导提问，通过调查现有文章来发现不同的观点来控制提问过程。第二种是模拟对话，strom模拟维基百科作者和互联网专家之间的对话来让 LLM 能够更新对主题的理解。\n",
    "\n",
    "https://github.com/stanford-oval/storm"
   ]
  },
  {
   "cell_type": "markdown",
   "metadata": {},
   "source": []
  }
 ],
 "metadata": {
  "language_info": {
   "name": "python"
  }
 },
 "nbformat": 4,
 "nbformat_minor": 2
}
