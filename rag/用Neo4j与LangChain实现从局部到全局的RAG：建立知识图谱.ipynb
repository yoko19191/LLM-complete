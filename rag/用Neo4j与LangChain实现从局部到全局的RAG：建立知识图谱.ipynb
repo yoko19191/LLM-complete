{
 "cells": [
  {
   "cell_type": "markdown",
   "metadata": {},
   "source": [
    "# 用Neo4j与LangChain实现从局部到全局的RAG：建立知识图谱\n",
    "\n",
    "https://zhuanlan.zhihu.com/p/709060837"
   ]
  },
  {
   "cell_type": "markdown",
   "metadata": {},
   "source": []
  }
 ],
 "metadata": {
  "language_info": {
   "name": "python"
  }
 },
 "nbformat": 4,
 "nbformat_minor": 2
}
